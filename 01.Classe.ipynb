{
 "cells": [
  {
   "cell_type": "markdown",
   "metadata": {},
   "source": [
    "## Classe Java\n",
    "\n",
    "```java\n",
    "public class MyClass { \n",
    "    private final String name; \n",
    "    private final int number;\n",
    "\n",
    "    public MyClass(String name, int number) {\n",
    "        this.name = name;\n",
    "        this.number = number;\n",
    "    }\n",
    "    \n",
    "    public String getName () {\n",
    "        return name;\n",
    "    }\n",
    "\n",
    "    public int getNumber () { \n",
    "        return number;\n",
    "    } \n",
    "}\n",
    "```"
   ]
  },
  {
   "cell_type": "markdown",
   "metadata": {},
   "source": [
    "## Classe Scala"
   ]
  },
  {
   "cell_type": "code",
   "execution_count": 1,
   "metadata": {},
   "outputs": [
    {
     "data": {
      "text/plain": [
       "defined \u001b[32mclass\u001b[39m \u001b[36mMyClass\u001b[39m\n",
       "\u001b[36mmyClassInstance\u001b[39m: \u001b[32mMyClass\u001b[39m = $sess.cmd0Wrapper$Helper$MyClass@6ff185d\n",
       "\u001b[36mres0_2\u001b[39m: \u001b[32mString\u001b[39m = \u001b[32m\"coucou\"\u001b[39m"
      ]
     },
     "execution_count": 1,
     "metadata": {},
     "output_type": "execute_result"
    }
   ],
   "source": [
    "class MyClass(val name:String , val number:Int)\n",
    "\n",
    "val myClassInstance = new MyClass(\"coucou\",3)\n",
    "\n",
    "myClassInstance.name"
   ]
  },
  {
   "cell_type": "code",
   "execution_count": 2,
   "metadata": {},
   "outputs": [
    {
     "data": {
      "text/plain": [
       "defined \u001b[32mclass\u001b[39m \u001b[36mMyClass\u001b[39m"
      ]
     },
     "execution_count": 2,
     "metadata": {},
     "output_type": "execute_result"
    }
   ],
   "source": [
    "class MyClass(val aField:String) {\n",
    "    def myMethod:String = aField\n",
    "    def myOtherMethod1:String = this.myMethod\n",
    "    def myOtherMethod2 = myMethod\n",
    "} "
   ]
  },
  {
   "cell_type": "markdown",
   "metadata": {},
   "source": [
    "*le mot cle `this` peut etre omis lorsqu'il n'y a pas d'ambiguite*"
   ]
  },
  {
   "cell_type": "code",
   "execution_count": null,
   "metadata": {},
   "outputs": [],
   "source": []
  }
 ],
 "metadata": {
  "kernelspec": {
   "display_name": "Scala",
   "language": "scala",
   "name": "scala"
  },
  "language_info": {
   "codemirror_mode": "text/x-scala",
   "file_extension": ".scala",
   "mimetype": "text/x-scala",
   "name": "scala211",
   "nbconvert_exporter": "script",
   "pygments_lexer": "scala",
   "version": "2.11.11"
  }
 },
 "nbformat": 4,
 "nbformat_minor": 2
}
