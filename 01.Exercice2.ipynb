{
 "cells": [
  {
   "cell_type": "code",
   "execution_count": 7,
   "metadata": {},
   "outputs": [
    {
     "data": {
      "text/plain": [
       "\u001b[32mimport \u001b[39m\u001b[36mscala.util.Random\n",
       "\u001b[39m\n",
       "\u001b[32mimport \u001b[39m\u001b[36mscala.io.StdIn.readInt\u001b[39m"
      ]
     },
     "execution_count": 7,
     "metadata": {},
     "output_type": "execute_result"
    }
   ],
   "source": [
    "import scala.util.Random\n",
    "import scala.io.StdIn.readInt"
   ]
  },
  {
   "cell_type": "code",
   "execution_count": 10,
   "metadata": {},
   "outputs": [
    {
     "ename": "",
     "evalue": "",
     "output_type": "error",
     "traceback": [
      "\u001b[31mjava.io.EOFException: Console has reached end of input\u001b[39m",
      "  scala.io.StdIn$class.readInt(\u001b[32mStdIn.scala\u001b[39m:\u001b[32m108\u001b[39m)",
      "  scala.io.StdIn$.readInt(\u001b[32mStdIn.scala\u001b[39m:\u001b[32m229\u001b[39m)",
      "  $sess.cmd9Wrapper$Helper$GuessTheNumber$.delayedEndpoint$$sess$cmd9Wrapper$Helper$GuessTheNumber$1(\u001b[32mcmd9.sc\u001b[39m:\u001b[32m8\u001b[39m)",
      "  $sess.cmd9Wrapper$Helper$GuessTheNumber$delayedInit$body.apply(\u001b[32mcmd9.sc\u001b[39m:\u001b[32m1\u001b[39m)",
      "  scala.Function0$class.apply$mcV$sp(\u001b[32mFunction0.scala\u001b[39m:\u001b[32m34\u001b[39m)",
      "  scala.runtime.AbstractFunction0.apply$mcV$sp(\u001b[32mAbstractFunction0.scala\u001b[39m:\u001b[32m12\u001b[39m)",
      "  scala.App$$anonfun$main$1.apply(\u001b[32mApp.scala\u001b[39m:\u001b[32m76\u001b[39m)",
      "  scala.App$$anonfun$main$1.apply(\u001b[32mApp.scala\u001b[39m:\u001b[32m76\u001b[39m)",
      "  scala.collection.immutable.List.foreach(\u001b[32mList.scala\u001b[39m:\u001b[32m392\u001b[39m)",
      "  scala.collection.generic.TraversableForwarder$class.foreach(\u001b[32mTraversableForwarder.scala\u001b[39m:\u001b[32m35\u001b[39m)",
      "  scala.App$class.main(\u001b[32mApp.scala\u001b[39m:\u001b[32m76\u001b[39m)",
      "  $sess.cmd9Wrapper$Helper$GuessTheNumber$.main(\u001b[32mcmd9.sc\u001b[39m:\u001b[32m1\u001b[39m)",
      "  $sess.cmd9Wrapper$Helper.<init>(\u001b[32mcmd9.sc\u001b[39m:\u001b[32m22\u001b[39m)",
      "  $sess.cmd9Wrapper.<init>(\u001b[32mcmd9.sc\u001b[39m:\u001b[32m100\u001b[39m)",
      "  $sess.cmd9$.<init>(\u001b[32mcmd9.sc\u001b[39m:\u001b[32m74\u001b[39m)",
      "  $sess.cmd9$.<clinit>(\u001b[32mcmd9.sc\u001b[39m:\u001b[32m-1\u001b[39m)"
     ]
    }
   ],
   "source": [
    "object GuessTheNumber extends App {\n",
    "\n",
    "  val numberToGuess = Random.nextInt(100)\n",
    "\n",
    "  var nok = true\n",
    "\n",
    "  while ( nok ) {\n",
    "    val guess: Int = readInt()\n",
    "\n",
    "    if ( guess > numberToGuess)\n",
    "      println( \" Trop grand \")\n",
    "    else if ( guess < numberToGuess)\n",
    "      println( \" Trop petit \")\n",
    "    else {\n",
    "      println(\"Bravo\")\n",
    "      nok = false\n",
    "    }\n",
    "\n",
    "  }\n",
    "}\n",
    "GuessTheNumber.main(Array(\"1\",\"2\"))"
   ]
  },
  {
   "cell_type": "code",
   "execution_count": 12,
   "metadata": {},
   "outputs": [
    {
     "name": "stdout",
     "output_type": "stream",
     "text": [
      " Somme () \n",
      " Annees 15 \n"
     ]
    },
    {
     "data": {
      "text/plain": [
       "defined \u001b[32mobject\u001b[39m \u001b[36mSavings\u001b[39m"
      ]
     },
     "execution_count": 12,
     "metadata": {},
     "output_type": "execute_result"
    }
   ],
   "source": [
    "object Savings extends App{\n",
    "\n",
    "  val initialSum = 100\n",
    "  val interestRate = 0.05\n",
    "  val finalSum = 200\n",
    "\n",
    "  var x:Unit = initialSum\n",
    "  var y = 0\n",
    "\n",
    "  def ComputeSum( x:Double) {\n",
    "    if ( x > finalSum)\n",
    "      x\n",
    "    else {\n",
    "      y += 1\n",
    "      ComputeSum(x + x * interestRate)\n",
    "    }\n",
    "\n",
    "  }\n",
    "\n",
    "  x = ComputeSum(initialSum)\n",
    "  println(s\" Somme $x \")\n",
    "  println(s\" Annees $y \")\n",
    "\n",
    "\n",
    "}\n",
    "Savings.main(Array(\"1\",\"2\"))"
   ]
  },
  {
   "cell_type": "code",
   "execution_count": 12,
   "metadata": {},
   "outputs": [
    {
     "ename": "",
     "evalue": "",
     "output_type": "error",
     "traceback": [
      "SyntaxError: found \") println(c)\", expected \"with\" | `<-` | `←` at index 70",
      "c : nonTrimmedString) println(c)",
      "                    ^"
     ]
    }
   ],
   "source": [
    "val nonTrimmedString = \"   Hello world  \"\n",
    "  \n",
    "fore( c : nonTrimmedString) println(c)"
   ]
  },
  {
   "cell_type": "code",
   "execution_count": null,
   "metadata": {},
   "outputs": [],
   "source": []
  }
 ],
 "metadata": {
  "kernelspec": {
   "display_name": "Scala",
   "language": "scala",
   "name": "scala"
  },
  "language_info": {
   "codemirror_mode": "text/x-scala",
   "file_extension": ".scala",
   "mimetype": "text/x-scala",
   "name": "scala211",
   "nbconvert_exporter": "script",
   "pygments_lexer": "scala",
   "version": "2.11.11"
  }
 },
 "nbformat": 4,
 "nbformat_minor": 2
}
