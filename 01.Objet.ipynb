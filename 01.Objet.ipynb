{
 "cells": [
  {
   "cell_type": "markdown",
   "metadata": {},
   "source": [
    "# Programmation objet"
   ]
  },
  {
   "cell_type": "code",
   "execution_count": 0,
   "metadata": {},
   "outputs": [
    {
     "name": "stderr",
     "output_type": "stream",
     "text": [
      "cmd0.sc:5: abstract member may not have private modifier\n",
      "  private val birthYear:Int \n",
      "              ^"
     ]
    },
    {
     "ename": "",
     "evalue": "",
     "output_type": "error",
     "traceback": [
      "Compilation Failed"
     ]
    }
   ],
   "source": [
    "class Personne(n: Int, d: Int) {\n",
    "    \n",
    "  val name:String\n",
    "  protected var gender:String\n",
    "\n",
    "  \n",
    "}"
   ]
  },
  {
   "cell_type": "code",
   "execution_count": 1,
   "metadata": {},
   "outputs": [
    {
     "data": {
      "text/plain": [
       "defined \u001b[32mclass\u001b[39m \u001b[36mMyClass\u001b[39m\n",
       "defined \u001b[32mclass\u001b[39m \u001b[36mMyOtherClass\u001b[39m"
      ]
     },
     "execution_count": 1,
     "metadata": {},
     "output_type": "execute_result"
    }
   ],
   "source": [
    "abstract class MyClass {\n",
    "    def sayHello:String\n",
    "}\n",
    "\n",
    "class MyOtherClass extends MyClass {\n",
    "    override def sayHello = \"coucou\"\n",
    "}"
   ]
  },
  {
   "cell_type": "markdown",
   "metadata": {},
   "source": [
    "## Les traits"
   ]
  },
  {
   "cell_type": "code",
   "execution_count": 2,
   "metadata": {},
   "outputs": [
    {
     "data": {
      "text/plain": [
       "defined \u001b[32mtrait\u001b[39m \u001b[36mMyTrait\u001b[39m\n",
       "defined \u001b[32mtrait\u001b[39m \u001b[36mMyOtherTrait\u001b[39m\n",
       "defined \u001b[32mclass\u001b[39m \u001b[36mMyClassWithTrait\u001b[39m"
      ]
     },
     "execution_count": 2,
     "metadata": {},
     "output_type": "execute_result"
    }
   ],
   "source": [
    "trait MyTrait\n",
    "trait MyOtherTrait {\n",
    "    def display() = println(\"Hello\")\n",
    "    \n",
    "}\n",
    "class MyClassWithTrait() extends MyTrait with MyOtherTrait"
   ]
  },
  {
   "cell_type": "markdown",
   "metadata": {},
   "source": [
    "## Les objects\n",
    "\n",
    "- Une classe scala étend laclasse `Any`\n",
    "- Pas de types primitifs en Scala, tout est Objet\n",
    "- Les types primitifs étendent `AnyVal`\n",
    "- Les types objets étendent `Anyref`"
   ]
  },
  {
   "cell_type": "code",
   "execution_count": null,
   "metadata": {},
   "outputs": [],
   "source": []
  },
  {
   "cell_type": "code",
   "execution_count": null,
   "metadata": {},
   "outputs": [],
   "source": []
  }
 ],
 "metadata": {
  "kernelspec": {
   "display_name": "Scala",
   "language": "scala",
   "name": "scala"
  },
  "language_info": {
   "codemirror_mode": "text/x-scala",
   "file_extension": ".scala",
   "mimetype": "text/x-scala",
   "name": "scala211",
   "nbconvert_exporter": "script",
   "pygments_lexer": "scala",
   "version": "2.11.11"
  }
 },
 "nbformat": 4,
 "nbformat_minor": 2
}
