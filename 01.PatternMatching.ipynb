{
 "cells": [
  {
   "cell_type": "markdown",
   "metadata": {},
   "source": [
    "Java switch\n",
    "```java\n",
    "inti=1; \n",
    "switch (i) {\n",
    "    case 0:\n",
    "        System.out.println(\"c’est un zero\"); \n",
    "        break;\n",
    "    case 1:\n",
    "        System.out.println(\"c’est un un\"); \n",
    "        break;\n",
    "    default:\n",
    "        System.out.println(\"c’est autre chose\");\n",
    "```"
   ]
  },
  {
   "cell_type": "code",
   "execution_count": 2,
   "metadata": {},
   "outputs": [
    {
     "name": "stdout",
     "output_type": "stream",
     "text": [
      "c’est un un\n",
      "c’est autre chose\n",
      "c’est un zero\n"
     ]
    },
    {
     "data": {
      "text/plain": [
       "defined \u001b[32mfunction\u001b[39m \u001b[36mcheck\u001b[39m"
      ]
     },
     "execution_count": 2,
     "metadata": {},
     "output_type": "execute_result"
    }
   ],
   "source": [
    "def check( i:Int ){\n",
    "    i match {\n",
    "    case 0 => println(\"c’est un zero\")\n",
    "    case 1 => println(\"c’est un un\")\n",
    "    case _ => println(\"c’est autre chose\")\n",
    "    }\n",
    "}\n",
    "check(1)\n",
    "check(2)\n",
    "check(0)"
   ]
  },
  {
   "cell_type": "code",
   "execution_count": null,
   "metadata": {},
   "outputs": [],
   "source": []
  }
 ],
 "metadata": {
  "kernelspec": {
   "display_name": "JupyterScala",
   "language": "scala",
   "name": "custom"
  },
  "language_info": {
   "codemirror_mode": "text/x-scala",
   "file_extension": ".scala",
   "mimetype": "text/x-scala",
   "name": "scala211",
   "nbconvert_exporter": "script",
   "pygments_lexer": "scala",
   "version": "2.11.11"
  }
 },
 "nbformat": 4,
 "nbformat_minor": 2
}
