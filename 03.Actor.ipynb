{
 "cells": [
  {
   "cell_type": "code",
   "execution_count": 0,
   "metadata": {},
   "outputs": [
    {
     "name": "stderr",
     "output_type": "stream",
     "text": [
      "cmd0.sc:1: not found: value akka\n",
      "import akka.actor.Actor\n",
      "       ^cmd0.sc:3: not found: type Actor\n",
      "class anActor extends Actor {\n",
      "                      ^cmd0.sc:4: missing parameter type for expanded function\n",
      "The argument types of an anonymous function must be fully known. (SLS 8.5)\n",
      "Expected type was: ?\n",
      "    def receive = {\n",
      "                  ^cmd0.sc:8: not found: value sender\n",
      "            sender | \" How are you ?\"\n",
      "            ^"
     ]
    },
    {
     "ename": "",
     "evalue": "",
     "output_type": "error",
     "traceback": [
      "Compilation Failed"
     ]
    }
   ],
   "source": [
    "import akka.actor.Actor\n",
    "\n",
    "class anActor extends Actor {\n",
    "    def receive = {\n",
    "        \n",
    "        case \"Hello\" => {\n",
    "            println(\"Do Something\")\n",
    "            sender | \" How are you ?\"\n",
    "        }\n",
    "    }\n",
    "}"
   ]
  },
  {
   "cell_type": "code",
   "execution_count": null,
   "metadata": {},
   "outputs": [],
   "source": []
  },
  {
   "cell_type": "code",
   "execution_count": null,
   "metadata": {},
   "outputs": [],
   "source": []
  }
 ],
 "metadata": {
  "kernelspec": {
   "display_name": "JupyterScala",
   "language": "scala",
   "name": "custom"
  },
  "language_info": {
   "codemirror_mode": "text/x-scala",
   "file_extension": ".scala",
   "mimetype": "text/x-scala",
   "name": "scala211",
   "nbconvert_exporter": "script",
   "pygments_lexer": "scala",
   "version": "2.11.11"
  }
 },
 "nbformat": 4,
 "nbformat_minor": 2
}
