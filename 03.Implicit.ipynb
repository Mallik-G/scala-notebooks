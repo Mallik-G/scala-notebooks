{
 "cells": [
  {
   "cell_type": "code",
   "execution_count": 1,
   "metadata": {},
   "outputs": [
    {
     "data": {
      "text/plain": [
       "defined \u001b[32mfunction\u001b[39m \u001b[36mdisplayHello\u001b[39m\n",
       "defined \u001b[32mfunction\u001b[39m \u001b[36mtreat\u001b[39m\n",
       "\u001b[36mres0_2\u001b[39m: \u001b[32mList\u001b[39m[(\u001b[32mInt\u001b[39m, \u001b[32mString\u001b[39m)] = \u001b[33mList\u001b[39m((\u001b[32m1\u001b[39m, \u001b[32m\"Hello\"\u001b[39m), (\u001b[32m2\u001b[39m, \u001b[32m\"Hello\"\u001b[39m), (\u001b[32m3\u001b[39m, \u001b[32m\"Hello\"\u001b[39m))\n",
       "\u001b[36mres0_3\u001b[39m: \u001b[32mList\u001b[39m[(\u001b[32mInt\u001b[39m, \u001b[32mString\u001b[39m)] = \u001b[33mList\u001b[39m((\u001b[32m1\u001b[39m, \u001b[32m\"coucou\"\u001b[39m), (\u001b[32m2\u001b[39m, \u001b[32m\"coucou\"\u001b[39m), (\u001b[32m3\u001b[39m, \u001b[32m\"coucou\"\u001b[39m))"
      ]
     },
     "execution_count": 1,
     "metadata": {},
     "output_type": "execute_result"
    }
   ],
   "source": [
    "implicit def displayHello(x:Int):(Int, String) = (x, \"Hello\")\n",
    "\n",
    "def treat(aList:List[Int])(implicit f: Int => (Int, String)) = { \n",
    "    aList.map(f(_))\n",
    "}\n",
    "\n",
    "treat(List(1,2,3))\n",
    "treat(List(1,2,3))(x => (x, \"coucou\"))"
   ]
  },
  {
   "cell_type": "markdown",
   "metadata": {},
   "source": [
    "- Lorsque la fonction `implicit` est appelée, si on ne passe rien pour l’argument défini comme `implicit`, le compilateur va chercher une fonction ou un objet déclaré comme `implicit` ayant le même type que la fonction ou l’objet passé en argument.\n",
    "- C’est notamment comme cela que toutes les conversions de types (comme Int vers Long par exemple) sont déterminées"
   ]
  },
  {
   "cell_type": "code",
   "execution_count": 4,
   "metadata": {},
   "outputs": [
    {
     "name": "stdout",
     "output_type": "stream",
     "text": [
      "false\n",
      "false\n"
     ]
    },
    {
     "data": {
      "text/plain": [
       "\u001b[32mimport \u001b[39m\u001b[36mjava.time.LocalDate\n",
       "\n",
       "\u001b[39m\n",
       "defined \u001b[32mobject\u001b[39m \u001b[36mMainSandBox\u001b[39m"
      ]
     },
     "execution_count": 4,
     "metadata": {},
     "output_type": "execute_result"
    }
   ],
   "source": [
    "import java.time.LocalDate\n",
    "\n",
    "object MainSandBox {\n",
    "\n",
    "  case class Person(name: String, age: Int, birthDate: LocalDate)\n",
    "\n",
    "  def main(args: Array[ String ]): Unit = {\n",
    "    val ryan = Person( \"Ryan\", 14, LocalDate.now() )\n",
    "    println(isAdult( ryan ))\n",
    "    println(isAdultGeneric( ryan))\n",
    "    ryan.isAdult\n",
    "  }\n",
    "\n",
    "  implicit def fromPersonToAge(person: Person): Int = person.age\n",
    "\n",
    "  def isAdult(age: Int): Boolean = age > 18\n",
    "\n",
    "  def isAdultGeneric[A](obj:A)(implicit converter : A => Int): Boolean = {\n",
    "    converter(obj) > 18\n",
    "  }\n",
    "\n",
    "    // tous les types qui implémentent Person\n",
    "  implicit class PimpMyAdult[T <: Person] (person: T) {\n",
    "    def isAdult() = MainSandBox.isAdult(person.age)\n",
    "  }\n",
    "\n",
    "}\n",
    "\n",
    "\n",
    "MainSandBox.main(Array(\"1\",\"2\"))"
   ]
  },
  {
   "cell_type": "code",
   "execution_count": null,
   "metadata": {},
   "outputs": [],
   "source": []
  }
 ],
 "metadata": {
  "kernelspec": {
   "display_name": "Scala",
   "language": "scala",
   "name": "scala"
  },
  "language_info": {
   "codemirror_mode": "text/x-scala",
   "file_extension": ".scala",
   "mimetype": "text/x-scala",
   "name": "scala211",
   "nbconvert_exporter": "script",
   "pygments_lexer": "scala",
   "version": "2.11.11"
  }
 },
 "nbformat": 4,
 "nbformat_minor": 2
}
