{
 "cells": [
  {
   "cell_type": "code",
   "execution_count": 1,
   "metadata": {},
   "outputs": [
    {
     "data": {
      "text/plain": [
       "\u001b[32mimport \u001b[39m\u001b[36mjava.io.File\n",
       "\u001b[39m\n",
       "\u001b[32mimport \u001b[39m\u001b[36mjava.time.LocalDate\n",
       "\n",
       "\u001b[39m\n",
       "\u001b[32mimport \u001b[39m\u001b[36mscala.io.Source\n",
       "\u001b[39m\n",
       "\u001b[32mimport \u001b[39m\u001b[36mscala.util._\n",
       "\n",
       "\u001b[39m\n",
       "defined \u001b[32mtrait\u001b[39m \u001b[36mValidationError\u001b[39m\n",
       "defined \u001b[32mclass\u001b[39m \u001b[36mAgeVerificationError\u001b[39m\n",
       "defined \u001b[32mclass\u001b[39m \u001b[36mDateVerificationError\u001b[39m\n",
       "defined \u001b[32mclass\u001b[39m \u001b[36mPerson\u001b[39m\n",
       "defined \u001b[32mobject\u001b[39m \u001b[36mPerson\u001b[39m"
      ]
     },
     "execution_count": 1,
     "metadata": {},
     "output_type": "execute_result"
    }
   ],
   "source": [
    "import java.io.File\n",
    "import java.time.LocalDate\n",
    "\n",
    "import scala.io.Source\n",
    "import scala.util._\n",
    "\n",
    "sealed trait ValidationError\n",
    "\n",
    "case class AgeVerificationError(reason: String) extends ValidationError\n",
    "case class DateVerificationError(reason: String) extends ValidationError\n",
    "case class Person(name: String, age: Int, birthDate: LocalDate)\n",
    "\n",
    "\n",
    "object Person {  // Objet compagnon\n",
    "\n",
    "  type PersonOrValidationErrors = Either[ Seq[ ValidationError ], Person ]\n",
    "\n",
    "  def parse(file: File) = Try[Seq[Person]] {\n",
    "\n",
    "    val lines: Seq[ String ] = Source.fromFile(file).getLines().toSeq\n",
    "\n",
    "    lines.map(parseLine)\n",
    "\n",
    "  }\n",
    "\n",
    "  def parseLine(line: String): Person = {\n",
    "\n",
    "    println(line)\n",
    "\n",
    "    val fields: Array[ String ] = line.split(\";\")\n",
    "    val name: String = fields(0)\n",
    "    val age: Int = fields(1).toInt\n",
    "    val date: Array[ String ] = fields(2) split (\"/\")\n",
    "    val yy: Int = date(0).toInt\n",
    "    val mm: Int = date(1).toInt\n",
    "    val dd: Int = date(2).toInt\n",
    "    val birthDate: LocalDate = LocalDate.of(yy, mm, dd)\n",
    "\n",
    "    println(\"name = \" + name)\n",
    "    println(\"age = \" + age)\n",
    "    println(\"birthdate = \" + birthDate)\n",
    "\n",
    "    val okCase = for {\n",
    "\n",
    "      age <- Try(fields(1).toInt)\n",
    "      date <- Try(LocalDate.parse(fields(2)))\n",
    "    }\n",
    "      yield Person(fields(0), age, birthDate)\n",
    "\n",
    "    okCase match {\n",
    "      case Success(ok) => Right(ok)\n",
    "      case Failure(nok) => Left(nok)\n",
    "\n",
    "    }\n",
    "\n",
    "    Person(fields(0), fields(1).toInt, LocalDate.parse(fields(2)))\n",
    "\n",
    "  }\n",
    "\n",
    "}\n",
    "\n",
    "\n",
    "\n"
   ]
  },
  {
   "cell_type": "code",
   "execution_count": 3,
   "metadata": {},
   "outputs": [
    {
     "name": "stdout",
     "output_type": "stream",
     "text": [
      "Navaro;12;2017/01/01\n",
      "name = Navaro\n",
      "age = 12\n",
      "birthdate = 2017-01-01\n"
     ]
    },
    {
     "ename": "",
     "evalue": "",
     "output_type": "error",
     "traceback": [
      "\u001b[31mjava.time.format.DateTimeParseException: Text '2017/01/01' could not be parsed at index 4\u001b[39m",
      "  java.time.format.DateTimeFormatter.parseResolved0(\u001b[32mDateTimeFormatter.java\u001b[39m:\u001b[32m1949\u001b[39m)",
      "  java.time.format.DateTimeFormatter.parse(\u001b[32mDateTimeFormatter.java\u001b[39m:\u001b[32m1851\u001b[39m)",
      "  java.time.LocalDate.parse(\u001b[32mLocalDate.java\u001b[39m:\u001b[32m400\u001b[39m)",
      "  java.time.LocalDate.parse(\u001b[32mLocalDate.java\u001b[39m:\u001b[32m385\u001b[39m)",
      "  $sess.cmd0Wrapper$Helper$Person$.parseLine(\u001b[32mcmd0.sc\u001b[39m:\u001b[32m56\u001b[39m)",
      "  $sess.cmd2Wrapper$Helper.<init>(\u001b[32mcmd2.sc\u001b[39m:\u001b[32m1\u001b[39m)",
      "  $sess.cmd2Wrapper.<init>(\u001b[32mcmd2.sc\u001b[39m:\u001b[32m113\u001b[39m)",
      "  $sess.cmd2$.<init>(\u001b[32mcmd2.sc\u001b[39m:\u001b[32m92\u001b[39m)",
      "  $sess.cmd2$.<clinit>(\u001b[32mcmd2.sc\u001b[39m:\u001b[32m-1\u001b[39m)"
     ]
    }
   ],
   "source": [
    "Person.parseLine(\"Navaro;12;2017/01/01\")"
   ]
  },
  {
   "cell_type": "code",
   "execution_count": null,
   "metadata": {},
   "outputs": [],
   "source": []
  }
 ],
 "metadata": {
  "kernelspec": {
   "display_name": "JupyterScala",
   "language": "scala",
   "name": "custom"
  },
  "language_info": {
   "codemirror_mode": "text/x-scala",
   "file_extension": ".scala",
   "mimetype": "text/x-scala",
   "name": "scala211",
   "nbconvert_exporter": "script",
   "pygments_lexer": "scala",
   "version": "2.11.11"
  }
 },
 "nbformat": 4,
 "nbformat_minor": 2
}
